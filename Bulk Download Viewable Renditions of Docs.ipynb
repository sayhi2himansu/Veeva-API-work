{
 "cells": [
  {
   "cell_type": "code",
   "execution_count": 1,
   "id": "e694bc24",
   "metadata": {},
   "outputs": [],
   "source": [
    "# import required libraries\n",
    "\n",
    "import pandas as pd\n",
    "import numpy as np\n",
    "import requests as rq\n",
    "import json\n",
    "import logging\n",
    "import getpass\n",
    "import os"
   ]
  },
  {
   "cell_type": "markdown",
   "id": "c31e2c2f",
   "metadata": {},
   "source": [
    "## Step 1 : Take credentials from user"
   ]
  },
  {
   "cell_type": "code",
   "execution_count": null,
   "id": "d1ddd7be",
   "metadata": {},
   "outputs": [],
   "source": [
    "uName = input(\"Enter your UserName:\\n\")\n",
    "print(\"Enter Your Password\")\n",
    "pwd = getpass.getpass()"
   ]
  },
  {
   "cell_type": "code",
   "execution_count": null,
   "id": "6b7dabae",
   "metadata": {},
   "outputs": [],
   "source": []
  },
  {
   "cell_type": "markdown",
   "id": "7eca3bc2",
   "metadata": {},
   "source": [
    "## Step 2 : Getting Session ID"
   ]
  },
  {
   "cell_type": "markdown",
   "id": "3055ed57",
   "metadata": {},
   "source": [
    "### Defining URL, Body & Headers"
   ]
  },
  {
   "cell_type": "code",
   "execution_count": 3,
   "id": "ea41aa82",
   "metadata": {},
   "outputs": [],
   "source": [
    "#Reading URL from text file\n",
    "file= open('./credentials.txt')\n",
    "\n",
    "content = file.read()\n",
    "#print(content)\n",
    "file.close()\n",
    "\n",
    "credential_data = dict(subString.split(\"=\") for subString in content.split(\";\"))\n",
    "\n",
    "#Defining URL\n",
    "auth_URL = f\"{credential_data['vaultDNS']}api{credential_data['version_Api']}/auth\"\n",
    "\n",
    "#Defining Body\n",
    "auth_body = {\n",
    "    'username': uName,\n",
    "    'password': pwd\n",
    "}\n",
    "\n",
    "#Defining Header\n",
    "auth_headers = {\n",
    "    'Content-Type': 'application/x-www-form-urlencoded',\n",
    "    'Accept': 'application/json'\n",
    "}"
   ]
  },
  {
   "cell_type": "markdown",
   "id": "dabc3f82",
   "metadata": {},
   "source": [
    "### Get the Session ID"
   ]
  },
  {
   "cell_type": "code",
   "execution_count": 4,
   "id": "559a425f",
   "metadata": {},
   "outputs": [
    {
     "name": "stdout",
     "output_type": "stream",
     "text": [
      "sessionId stored in \"sessionId variable\"\n",
      "Response Status Below :\n",
      "SUCCESS\n"
     ]
    }
   ],
   "source": [
    "auth_response = rq.post(auth_URL, headers = auth_headers, data = auth_body)\n",
    "\n",
    "\n",
    "auth_response_data = json.loads(auth_response.content)\n",
    "\n",
    "sessionId=''\n",
    "\n",
    "if auth_response_data['responseStatus'] == 'SUCCESS':\n",
    "    sessionId = auth_response_data['sessionId']\n",
    "    print('sessionId stored in \"sessionId variable\"')\n",
    "    print('Response Status Below :')\n",
    "    print(auth_response_data['responseStatus'])\n",
    "    #print('sessionId Below :')\n",
    "    #print(sessionId)\n",
    "else:\n",
    "    print('something went wrong')\n",
    "    print(auth_response_data['responseStatus'])\n",
    "    print(auth_response_data['responseMessage'])\n",
    "   "
   ]
  },
  {
   "cell_type": "markdown",
   "id": "795f7887",
   "metadata": {},
   "source": [
    "## STEP 3 : Downloading the Viewable Rendition for Document(s)"
   ]
  },
  {
   "cell_type": "markdown",
   "id": "c6849007",
   "metadata": {},
   "source": [
    "#### import the Object Loader file or DataFrame"
   ]
  },
  {
   "cell_type": "code",
   "execution_count": null,
   "id": "04118f65",
   "metadata": {},
   "outputs": [],
   "source": [
    "docID_loader_file = pd.read_csv('yourFilecontainingDocIDs.csv')\n",
    "docID_loader_file.head()"
   ]
  },
  {
   "cell_type": "code",
   "execution_count": 6,
   "id": "dd9f94ad",
   "metadata": {},
   "outputs": [
    {
     "data": {
      "text/plain": [
       "(17, 18)"
      ]
     },
     "execution_count": 6,
     "metadata": {},
     "output_type": "execute_result"
    }
   ],
   "source": [
    "docID_loader_file.shape"
   ]
  },
  {
   "cell_type": "code",
   "execution_count": 7,
   "id": "f1efc1d3",
   "metadata": {},
   "outputs": [],
   "source": [
    "# Defing headers for all attachment files GET response\n",
    "\n",
    "docID_VR_header = {\n",
    "    'Authorization': sessionId,\n",
    "    'Accept': 'application/json'\n",
    "}"
   ]
  },
  {
   "cell_type": "code",
   "execution_count": null,
   "id": "edf9cd20",
   "metadata": {},
   "outputs": [],
   "source": [
    "for i in docID_loader_file.id:\n",
    "    \n",
    "    # Defining document viewable rendition URL Path\n",
    "    docID_VR_url = f\"{credential_data['vaultDNS']}api{credential_data['version_Api']}/objects/documents/{i}/renditions/viewable_rendition__v\"\n",
    "    #print(docID_VR_url)   #This will print all URl for Object IDs\n",
    "    \n",
    "    #Sending the HTTP Request\n",
    "    docID_VR_response = rq.get(docID_VR_url, headers = docID_VR_header)\n",
    "    \n",
    "    #print('########')\n",
    "    #print(docID_VR_response.headers) #This will print the status code\n",
    "    #print('########')\n",
    "\n",
    "    docID_VR_headers_string_convert = json.dumps(dict(docID_VR_response.headers))\n",
    "    #print(docID_VR_headers_string_convert)\n",
    "\n",
    "    docID_VR_headers_dict_convert = json.loads(docID_VR_headers_string_convert)\n",
    "    \n",
    "    print(f\"Remaining API Burst Limit {docID_VR_headers_dict_convert['X-VaultAPI-BurstLimitRemaining']}\")\n",
    "    #print(docID_VR_headers_dict_convert)\n",
    "    if 'Content-Disposition'in docID_VR_headers_dict_convert:\n",
    "        print(\"#######################################\")\n",
    "        print('content-disposition found')\n",
    "        if 'filename' in docID_VR_headers_dict_convert['Content-Disposition']: \n",
    "                    print('Viewable Rendition available for docId: ' + str(i))         \n",
    "\n",
    "                    #Naming the Filename\n",
    "                    filename = docID_VR_headers_dict_convert['Content-Disposition'].split(\"''\")[1]\n",
    "                    filename_id = f\"docID_{i}_{filename}\".replace('%20', ' ')                 \n",
    "                    filename_id = filename_id.replace('%2C', ',')\n",
    "                    filename_id = filename_id.replace('%28', '(')\n",
    "                    filename_id = filename_id.replace('%29', ')')\n",
    "                    filename_id = filename_id.replace('%C2%B0','°')\n",
    "                    filename_id = filename_id.replace('%E2%80%93','-')\n",
    "                    filename_id = filename_id.replace('%C2%AE','®')\n",
    "                    filename_id = filename_id.replace('%E2%84%A2','™')\n",
    "                    filename_id = filename_id.replace('%CE%B1','α')\n",
    "                    filename_id = filename_id.replace('%CE%B2','β')\n",
    "                    filename_id = filename_id.replace('%CE%B3','γ')\n",
    "                    filename_id = filename_id.replace('%CE%B4','δ')\n",
    "                    filename_id = filename_id.replace('%25','%')\n",
    "                    filename_id = filename_id.replace('%E2%80%99',\"'\")\n",
    "                    filename_id = filename_id.replace('%27',\"'\")\n",
    "        \n",
    "                    #print(filename_id)\n",
    "\n",
    "\n",
    "                    #Create a logFile\n",
    "                    logger = logging.getLogger(__name__)\n",
    "                    logging.basicConfig(filename=\"logFile.log\",\n",
    "                                encoding=\"utf-8\",\n",
    "                                level=logging.DEBUG,\n",
    "                                format='%(asctime)s %(message)s', \n",
    "                                datefmt='%m/%d/%Y %I:%M:%S %p')\n",
    "\n",
    "                    logger.info('SUCCESS :: Doc Id ::' + str(i) + ' - FOUND viewable rendition')\n",
    "\n",
    "                    #Download the filename to local\n",
    "                    directory_path = r'PATH WHERE YOU WANT TO SAVE THE VIEWABLE RENDITIONS'\n",
    "                    file_path = os.path.join(directory_path, filename_id)\n",
    "                    with open(file_path, 'wb') as output_file:\n",
    "                            output_file.write(docID_VR_response.content)\n",
    "                            print('Viewable Rendition downloaded for docID:' + str(i))\n",
    "                            print(\"#######################################\")\n",
    "\n",
    "        else:\n",
    "                    print(\"filename not found for docId: \" + str(i))\n",
    "                    print(\"#######################################\")\n",
    "                    logger = logging.getLogger(__name__)\n",
    "                    logging.basicConfig(filename=\"logFile.log\",\n",
    "                                encoding=\"utf-8\",\n",
    "                                level=logging.DEBUG,\n",
    "                                format='%(asctime)s %(message)s', \n",
    "                                datefmt='%m/%d/%Y %I:%M:%S %p')\n",
    "                    logger.info('WARNING Content-Disposition(Available):: Doc Id ::' + str(i) + ' has no viewable rendition or something went wrong, Check Manually')\n",
    "     \n",
    "    else:  \n",
    "        print(\"Content-Disposition not found for docId: \" + str(i))\n",
    "        logger = logging.getLogger(__name__)\n",
    "        logging.basicConfig(filename=\"logFile.log\",\n",
    "                            encoding=\"utf-8\",\n",
    "                            level=logging.DEBUG,\n",
    "                            format='%(asctime)s %(message)s', \n",
    "                            datefmt='%m/%d/%Y %I:%M:%S %p')\n",
    "        logger.info('WARNING Content-Disposition(NA) :: Doc Id ::' + str(i) + ' has no viewable rendition or something went wrong, Check Manually')\n",
    "\n",
    "\n",
    "print(\"############################\")\n",
    "print(\"############################\")\n",
    "print(\"TASK FINISHED, REFER LOG FILE FOR DETAILS.\")\n",
    "print(\"############################\")\n",
    "print(\"############################\")\n",
    "\n"
   ]
  },
  {
   "cell_type": "code",
   "execution_count": null,
   "id": "11cdeeae",
   "metadata": {},
   "outputs": [],
   "source": []
  },
  {
   "cell_type": "code",
   "execution_count": null,
   "id": "d6e38b21",
   "metadata": {},
   "outputs": [],
   "source": []
  },
  {
   "cell_type": "code",
   "execution_count": 45,
   "id": "4d210d42",
   "metadata": {},
   "outputs": [],
   "source": []
  },
  {
   "cell_type": "code",
   "execution_count": null,
   "id": "6ad7e72b",
   "metadata": {},
   "outputs": [],
   "source": []
  },
  {
   "cell_type": "code",
   "execution_count": null,
   "id": "296fe3e9",
   "metadata": {},
   "outputs": [],
   "source": []
  },
  {
   "cell_type": "code",
   "execution_count": null,
   "id": "0a91eda8",
   "metadata": {},
   "outputs": [],
   "source": []
  },
  {
   "cell_type": "code",
   "execution_count": null,
   "id": "aa8d9457",
   "metadata": {},
   "outputs": [],
   "source": []
  },
  {
   "cell_type": "code",
   "execution_count": null,
   "id": "8946011d",
   "metadata": {},
   "outputs": [],
   "source": []
  },
  {
   "cell_type": "code",
   "execution_count": null,
   "id": "3829a1ec",
   "metadata": {},
   "outputs": [],
   "source": []
  },
  {
   "cell_type": "code",
   "execution_count": null,
   "id": "67a835ac",
   "metadata": {},
   "outputs": [],
   "source": []
  },
  {
   "cell_type": "code",
   "execution_count": null,
   "id": "e78ce1b4",
   "metadata": {},
   "outputs": [],
   "source": []
  },
  {
   "cell_type": "code",
   "execution_count": null,
   "id": "e17ca44c",
   "metadata": {},
   "outputs": [],
   "source": []
  },
  {
   "cell_type": "code",
   "execution_count": null,
   "id": "076f2931",
   "metadata": {},
   "outputs": [],
   "source": []
  },
  {
   "cell_type": "code",
   "execution_count": null,
   "id": "92718a20",
   "metadata": {},
   "outputs": [],
   "source": []
  },
  {
   "cell_type": "code",
   "execution_count": null,
   "id": "5e63e55a",
   "metadata": {},
   "outputs": [],
   "source": []
  },
  {
   "cell_type": "code",
   "execution_count": null,
   "id": "4eb8d1ee",
   "metadata": {},
   "outputs": [],
   "source": []
  },
  {
   "cell_type": "code",
   "execution_count": null,
   "id": "10f04b30",
   "metadata": {},
   "outputs": [],
   "source": []
  },
  {
   "cell_type": "code",
   "execution_count": null,
   "id": "4d2a50f4",
   "metadata": {},
   "outputs": [],
   "source": []
  },
  {
   "cell_type": "code",
   "execution_count": null,
   "id": "c5abe63f",
   "metadata": {},
   "outputs": [],
   "source": []
  }
 ],
 "metadata": {
  "kernelspec": {
   "display_name": "Python 3 (ipykernel)",
   "language": "python",
   "name": "python3"
  },
  "language_info": {
   "codemirror_mode": {
    "name": "ipython",
    "version": 3
   },
   "file_extension": ".py",
   "mimetype": "text/x-python",
   "name": "python",
   "nbconvert_exporter": "python",
   "pygments_lexer": "ipython3",
   "version": "3.9.12"
  }
 },
 "nbformat": 4,
 "nbformat_minor": 5
}
